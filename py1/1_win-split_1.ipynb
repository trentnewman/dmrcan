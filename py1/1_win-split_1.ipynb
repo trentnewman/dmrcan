{
 "cells": [
  {
   "cell_type": "code",
   "execution_count": 1,
   "id": "60a589e1",
   "metadata": {},
   "outputs": [
    {
     "name": "stdout",
     "output_type": "stream",
     "text": [
      "win-split_1.py\n"
     ]
    }
   ],
   "source": [
    "print(\"win-split_1.py\")\n",
    "import sys\n",
    "sys.path.append(\"../dep\")\n",
    "from libs import *"
   ]
  },
  {
   "cell_type": "code",
   "execution_count": 2,
   "id": "0d577861",
   "metadata": {},
   "outputs": [],
   "source": [
    "#\n",
    "dir1 = '../out0/wins/'\n",
    "www = os.listdir(dir1)\n",
    "www = sorted(www)\n",
    "www = [w for w in www if 'chr' in w]\n",
    "#www"
   ]
  },
  {
   "cell_type": "code",
   "execution_count": 3,
   "id": "4243bfd0",
   "metadata": {},
   "outputs": [
    {
     "name": "stderr",
     "output_type": "stream",
     "text": [
      "100%|███████████████████████████████████████████| 36/36 [00:38<00:00,  1.07s/it]\n"
     ]
    }
   ],
   "source": [
    "#\n",
    "dir2 = '../out0/gffdb/'\n",
    "for c in tqdm.tqdm(range(len(www))):\n",
    "    wn = www[c]\n",
    "    wn = wn.replace('windows_', '')\n",
    "    wn = wn.replace('.csv', '')\n",
    "    #\n",
    "    wd = pd.read_csv(dir1+www[c], header=None)\n",
    "    wd.columns = ['st', 'en']\n",
    "    #    \n",
    "    # find gff-db file matching current contig\n",
    "    ggg = os.listdir(dir2)\n",
    "    gd = []\n",
    "    for g in ggg:\n",
    "        if g == 'gff-db_'+wn+'_exp.csv':\n",
    "            gd = pd.read_csv(dir2+g)\n",
    "    # separate contig gff-db by window\n",
    "    for w in range(len(wd['st'])):\n",
    "        sgd = gd\n",
    "        sgd = sgd[sgd['start']>=wd.iloc[w]['st']]\n",
    "        sgd = sgd[sgd['end']<=wd.iloc[w]['en']]\n",
    "        sgd.to_csv('../out1/gffdb_split/gd-s_con-'+wn+'_w'+str(w)+'.csv', index=False)"
   ]
  },
  {
   "cell_type": "code",
   "execution_count": 4,
   "id": "df43b58e",
   "metadata": {},
   "outputs": [
    {
     "name": "stderr",
     "output_type": "stream",
     "text": [
      "100%|███████████████████████████████████████████| 36/36 [00:39<00:00,  1.11s/it]\n"
     ]
    }
   ],
   "source": [
    "#\n",
    "dir3 = '../out0/cgi/'\n",
    "for c in tqdm.tqdm(range(len(www))):\n",
    "    wn = www[c]\n",
    "    wn = wn.replace('windows_', '')\n",
    "    wn = wn.replace('.csv', '')\n",
    "    #\n",
    "    wd = pd.read_csv(dir1+www[c], header=None)\n",
    "    wd.columns = ['st', 'en']\n",
    "    #    \n",
    "    # find cgi file matching current contig\n",
    "    cg = os.listdir(dir3)\n",
    "    cgd = []\n",
    "    for i in cg:\n",
    "        if i == 'whole-cgi_'+wn+'_exp.csv':\n",
    "            cgd = pd.read_csv(dir3+i)\n",
    "    # separate contig gff-db by window\n",
    "    for w in range(len(wd['st'])):\n",
    "        scgd = cgd\n",
    "        scgd = scgd[scgd['xst']>=wd.iloc[w]['st']]\n",
    "        scgd = scgd[scgd['xen']<=wd.iloc[w]['en']]\n",
    "        scgd.to_csv('../out1/cgi_split/cg-s_con-'+wn+'_w'+str(w)+'.csv', index=False)"
   ]
  },
  {
   "cell_type": "code",
   "execution_count": 5,
   "id": "72d82c16",
   "metadata": {},
   "outputs": [
    {
     "name": "stderr",
     "output_type": "stream",
     "text": [
      "100%|███████████████████████████████████████████| 36/36 [07:21<00:00, 12.25s/it]\n"
     ]
    }
   ],
   "source": [
    "#\n",
    "dir4 = '../out0/cov/'\n",
    "for c in tqdm.tqdm(range(len(www))):\n",
    "    wn = www[c]\n",
    "    wn = wn.replace('windows_', '')\n",
    "    wn = wn.replace('.csv', '')\n",
    "    #\n",
    "    wd = pd.read_csv(dir1+www[c], header=None)\n",
    "    wd.columns = ['st', 'en']\n",
    "    #    \n",
    "    # find cov file matching current contig\n",
    "    vvv = os.listdir(dir4)\n",
    "    vd = []\n",
    "    for v in vvv:\n",
    "        if v == 'whole-cov_'+wn+'_exp.csv':\n",
    "            vd = pd.read_csv(dir4+v)\n",
    "    # separate contig gff-db by window\n",
    "    for w in range(len(wd['st'])):\n",
    "        svd = vd\n",
    "        svd = svd[svd['st']>=wd.iloc[w]['st']]\n",
    "        svd = svd[svd['en']<=wd.iloc[w]['en']]\n",
    "        svd.to_csv('../out1/cov_split/cv-s_con-'+wn+'_w'+str(w)+'.csv', index=False)"
   ]
  },
  {
   "cell_type": "code",
   "execution_count": null,
   "id": "5ad42184",
   "metadata": {},
   "outputs": [],
   "source": []
  }
 ],
 "metadata": {
  "kernelspec": {
   "display_name": "Python 3 (ipykernel)",
   "language": "python",
   "name": "python3"
  },
  "language_info": {
   "codemirror_mode": {
    "name": "ipython",
    "version": 3
   },
   "file_extension": ".py",
   "mimetype": "text/x-python",
   "name": "python",
   "nbconvert_exporter": "python",
   "pygments_lexer": "ipython3",
   "version": "3.8.10"
  }
 },
 "nbformat": 4,
 "nbformat_minor": 5
}
