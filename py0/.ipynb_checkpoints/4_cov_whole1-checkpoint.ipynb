{
 "cells": [
  {
   "cell_type": "code",
   "execution_count": 1,
   "id": "669feddf",
   "metadata": {},
   "outputs": [
    {
     "name": "stdout",
     "output_type": "stream",
     "text": [
      "cov_whole1.py\n"
     ]
    }
   ],
   "source": [
    "print(\"cov_whole1.py\")\n",
    "import sys\n",
    "sys.path.append(\"../dep\")\n",
    "from libs import *"
   ]
  },
  {
   "cell_type": "code",
   "execution_count": 2,
   "id": "971ae627",
   "metadata": {},
   "outputs": [],
   "source": [
    "#\n",
    "filey = covt.covf"
   ]
  },
  {
   "cell_type": "code",
   "execution_count": 3,
   "id": "45c1b77c",
   "metadata": {},
   "outputs": [
    {
     "name": "stdout",
     "output_type": "stream",
     "text": [
      "Cov file rows: 69013790\n",
      "---> 00:00:25.00\n"
     ]
    }
   ],
   "source": [
    "#\n",
    "start = time.time()\n",
    "with open(filey) as fp:\n",
    "    count = 0\n",
    "    for _ in fp:\n",
    "        count += 1\n",
    "print(\"Cov file rows: \"+str(count))\n",
    "end = time.time()\n",
    "hours, rem = divmod(end-start, 3600)\n",
    "minutes, seconds = divmod(rem, 60)\n",
    "print(\"---> {:0>2}:{:0>2}:{:05.2f}\".format(int(hours),int(minutes),seconds))"
   ]
  },
  {
   "cell_type": "code",
   "execution_count": 4,
   "id": "205494f8",
   "metadata": {},
   "outputs": [
    {
     "name": "stdout",
     "output_type": "stream",
     "text": [
      "---> 00:00:00.03\n"
     ]
    },
    {
     "data": {
      "text/html": [
       "<div>\n",
       "<style scoped>\n",
       "    .dataframe tbody tr th:only-of-type {\n",
       "        vertical-align: middle;\n",
       "    }\n",
       "\n",
       "    .dataframe tbody tr th {\n",
       "        vertical-align: top;\n",
       "    }\n",
       "\n",
       "    .dataframe thead th {\n",
       "        text-align: right;\n",
       "    }\n",
       "</style>\n",
       "<table border=\"1\" class=\"dataframe\">\n",
       "  <thead>\n",
       "    <tr style=\"text-align: right;\">\n",
       "      <th></th>\n",
       "      <th>0</th>\n",
       "      <th>1</th>\n",
       "      <th>2</th>\n",
       "      <th>3</th>\n",
       "      <th>4</th>\n",
       "      <th>5</th>\n",
       "    </tr>\n",
       "  </thead>\n",
       "  <tbody>\n",
       "    <tr>\n",
       "      <th>1501738</th>\n",
       "      <td>NW_024044834.1</td>\n",
       "      <td>35861</td>\n",
       "      <td>35861</td>\n",
       "      <td>0.0</td>\n",
       "      <td>0</td>\n",
       "      <td>1</td>\n",
       "    </tr>\n",
       "    <tr>\n",
       "      <th>1501739</th>\n",
       "      <td>NW_024044834.1</td>\n",
       "      <td>35895</td>\n",
       "      <td>35895</td>\n",
       "      <td>100.0</td>\n",
       "      <td>1</td>\n",
       "      <td>0</td>\n",
       "    </tr>\n",
       "    <tr>\n",
       "      <th>1501740</th>\n",
       "      <td>NW_024044834.1</td>\n",
       "      <td>36394</td>\n",
       "      <td>36394</td>\n",
       "      <td>0.0</td>\n",
       "      <td>0</td>\n",
       "      <td>1</td>\n",
       "    </tr>\n",
       "    <tr>\n",
       "      <th>1501741</th>\n",
       "      <td>NW_024044834.1</td>\n",
       "      <td>36444</td>\n",
       "      <td>36444</td>\n",
       "      <td>0.0</td>\n",
       "      <td>0</td>\n",
       "      <td>1</td>\n",
       "    </tr>\n",
       "    <tr>\n",
       "      <th>1501742</th>\n",
       "      <td>NW_024044834.1</td>\n",
       "      <td>36501</td>\n",
       "      <td>36501</td>\n",
       "      <td>0.0</td>\n",
       "      <td>0</td>\n",
       "      <td>1</td>\n",
       "    </tr>\n",
       "  </tbody>\n",
       "</table>\n",
       "</div>"
      ],
      "text/plain": [
       "                      0      1      2      3  4  5\n",
       "1501738  NW_024044834.1  35861  35861    0.0  0  1\n",
       "1501739  NW_024044834.1  35895  35895  100.0  1  0\n",
       "1501740  NW_024044834.1  36394  36394    0.0  0  1\n",
       "1501741  NW_024044834.1  36444  36444    0.0  0  1\n",
       "1501742  NW_024044834.1  36501  36501    0.0  0  1"
      ]
     },
     "execution_count": 4,
     "metadata": {},
     "output_type": "execute_result"
    }
   ],
   "source": [
    "#\n",
    "start = time.time()\n",
    "df = dd.read_csv(filey, sep='\\t', header=None, dtype={0: 'object', 3: 'float64'})\n",
    "end = time.time()\n",
    "hours, rem = divmod(end-start, 3600)\n",
    "minutes, seconds = divmod(rem, 60)\n",
    "print(\"---> {:0>2}:{:0>2}:{:05.2f}\".format(int(hours),int(minutes),seconds))\n",
    "df.tail()"
   ]
  },
  {
   "cell_type": "code",
   "execution_count": 5,
   "id": "e6bd4563",
   "metadata": {},
   "outputs": [
    {
     "data": {
      "text/html": [
       "<div>\n",
       "<style scoped>\n",
       "    .dataframe tbody tr th:only-of-type {\n",
       "        vertical-align: middle;\n",
       "    }\n",
       "\n",
       "    .dataframe tbody tr th {\n",
       "        vertical-align: top;\n",
       "    }\n",
       "\n",
       "    .dataframe thead th {\n",
       "        text-align: right;\n",
       "    }\n",
       "</style>\n",
       "<table border=\"1\" class=\"dataframe\">\n",
       "  <thead>\n",
       "    <tr style=\"text-align: right;\">\n",
       "      <th></th>\n",
       "      <th>lo</th>\n",
       "      <th>st</th>\n",
       "      <th>en</th>\n",
       "      <th>mp</th>\n",
       "      <th>mc</th>\n",
       "      <th>uc</th>\n",
       "    </tr>\n",
       "  </thead>\n",
       "  <tbody>\n",
       "    <tr>\n",
       "      <th>1501740</th>\n",
       "      <td>NW_024044834.1</td>\n",
       "      <td>36394</td>\n",
       "      <td>36394</td>\n",
       "      <td>0.0</td>\n",
       "      <td>0</td>\n",
       "      <td>1</td>\n",
       "    </tr>\n",
       "    <tr>\n",
       "      <th>1501741</th>\n",
       "      <td>NW_024044834.1</td>\n",
       "      <td>36444</td>\n",
       "      <td>36444</td>\n",
       "      <td>0.0</td>\n",
       "      <td>0</td>\n",
       "      <td>1</td>\n",
       "    </tr>\n",
       "    <tr>\n",
       "      <th>1501742</th>\n",
       "      <td>NW_024044834.1</td>\n",
       "      <td>36501</td>\n",
       "      <td>36501</td>\n",
       "      <td>0.0</td>\n",
       "      <td>0</td>\n",
       "      <td>1</td>\n",
       "    </tr>\n",
       "  </tbody>\n",
       "</table>\n",
       "</div>"
      ],
      "text/plain": [
       "                     lo     st     en   mp  mc  uc\n",
       "1501740  NW_024044834.1  36394  36394  0.0   0   1\n",
       "1501741  NW_024044834.1  36444  36444  0.0   0   1\n",
       "1501742  NW_024044834.1  36501  36501  0.0   0   1"
      ]
     },
     "execution_count": 5,
     "metadata": {},
     "output_type": "execute_result"
    }
   ],
   "source": [
    "#\n",
    "#lo: gene info\n",
    "#st: position start\n",
    "#en: position end\n",
    "#mp: methylation percent\n",
    "#mc: methylated count\n",
    "#uc: unmethylated count\n",
    "df.columns = ['lo', 'st', 'en', 'mp', 'mc', 'uc']\n",
    "df.tail(3)"
   ]
  },
  {
   "cell_type": "code",
   "execution_count": 6,
   "id": "3840ec2b",
   "metadata": {},
   "outputs": [
    {
     "name": "stdout",
     "output_type": "stream",
     "text": [
      "---> 00:01:51.39\n"
     ]
    }
   ],
   "source": [
    "#\n",
    "start = time.time()\n",
    "dflu = list(df['lo'].unique())\n",
    "end = time.time()\n",
    "hours, rem = divmod(end-start, 3600)\n",
    "minutes, seconds = divmod(rem, 60)\n",
    "print(\"---> {:0>2}:{:0>2}:{:05.2f}\".format(int(hours),int(minutes),seconds))"
   ]
  },
  {
   "cell_type": "code",
   "execution_count": 7,
   "id": "c4eb6a97",
   "metadata": {},
   "outputs": [
    {
     "name": "stderr",
     "output_type": "stream",
     "text": [
      "100%|███████████████████████████████████████| 310/310 [2:56:25<00:00, 34.15s/it]\n"
     ]
    }
   ],
   "source": [
    "#\n",
    "# Estimate: 3 hours\n",
    "for ii in tqdm.tqdm(dflu):\n",
    "    sdf = df\n",
    "    sdf = sdf[sdf['lo']==ii].compute() # rate limiting\n",
    "    sdf.to_csv('../out0/cov/whole-cov_'+ii+'_exp.csv', index=False)"
   ]
  }
 ],
 "metadata": {
  "kernelspec": {
   "display_name": "Python 3 (ipykernel)",
   "language": "python",
   "name": "python3"
  },
  "language_info": {
   "codemirror_mode": {
    "name": "ipython",
    "version": 3
   },
   "file_extension": ".py",
   "mimetype": "text/x-python",
   "name": "python",
   "nbconvert_exporter": "python",
   "pygments_lexer": "ipython3",
   "version": "3.8.10"
  }
 },
 "nbformat": 4,
 "nbformat_minor": 5
}
