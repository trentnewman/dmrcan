{
 "cells": [
  {
   "cell_type": "code",
   "execution_count": 1,
   "id": "86dee963",
   "metadata": {},
   "outputs": [
    {
     "name": "stdout",
     "output_type": "stream",
     "text": [
      "TA-ann-conv.py\n"
     ]
    }
   ],
   "source": [
    "print(\"TA-ann-conv.py\")\n",
    "import sys\n",
    "sys.path.append(\"../dep\")\n",
    "from libs import *"
   ]
  },
  {
   "cell_type": "code",
   "execution_count": 2,
   "id": "05a2ba62",
   "metadata": {},
   "outputs": [],
   "source": [
    "gls = os.listdir('../out0/gffdb')\n",
    "gls = sorted(gls)\n",
    "#gls"
   ]
  },
  {
   "cell_type": "code",
   "execution_count": 3,
   "id": "965c1dd5",
   "metadata": {},
   "outputs": [],
   "source": [
    "scaffdict = {\n",
    "  \"NC_052066.1\": \"chr1\",\n",
    "  \"NC_052067.1\": \"chr2\",\n",
    "  \"NC_052068.1\": \"chr3\",\n",
    "  \"NC_052069.1\": \"chr4\",\n",
    "  \"NC_052070.1\": \"chr5\",\n",
    "  \"NC_052071.1\": \"chr6\",\n",
    "  \"NC_052072.1\": \"chr7\",\n",
    "  \"NC_052073.1\": \"chr8\",\n",
    "  \"NC_052074.1\": \"chr9\",\n",
    "  \"NC_052075.1\": \"chr10\",\n",
    "  \"NC_052076.1\": \"chr11\",\n",
    "  \"NC_052077.1\": \"chr12\",\n",
    "  \"NC_052078.1\": \"chr13\",\n",
    "  \"NC_052079.1\": \"chr14\",\n",
    "  \"NC_052080.1\": \"chr15\",\n",
    "  \"NC_052081.1\": \"chr16\",\n",
    "  \"NC_052082.1\": \"chr17\",\n",
    "  \"NC_052083.1\": \"chr18\",\n",
    "  \"NC_052084.1\": \"chr19\",\n",
    "  \"NC_052085.1\": \"chr20\",\n",
    "  \"NC_052086.1\": \"chr21\",\n",
    "  \"NC_052087.1\": \"chr22\",\n",
    "  \"NC_052088.1\": \"chr23\",\n",
    "  \"NC_052089.1\": \"chr24\",\n",
    "  \"NC_052090.1\": \"chr25\",\n",
    "  \"NC_052091.1\": \"chr26\",\n",
    "  \"NC_052092.1\": \"chr27\",\n",
    "  \"NC_052101.1\": \"chrX1\",\n",
    "  \"NC_052100.1\": \"chrX2\",\n",
    "  \"NC_052099.1\": \"chrX3\",\n",
    "  \"NC_052098.1\": \"chrX4\",\n",
    "  \"NC_052097.1\": \"chrX5\",\n",
    "  \"NC_052093.1\": \"chrY1\",\n",
    "  \"NC_052094.1\": \"chrY2\",\n",
    "  \"NC_052095.1\": \"chrY3\",\n",
    "  \"NC_052096.1\": \"chrY4\",\n",
    "}"
   ]
  },
  {
   "cell_type": "code",
   "execution_count": 4,
   "id": "3ee108be",
   "metadata": {},
   "outputs": [
    {
     "data": {
      "text/plain": [
       "0"
      ]
     },
     "execution_count": 4,
     "metadata": {},
     "output_type": "execute_result"
    }
   ],
   "source": [
    "import subprocess\n",
    "dirnam = '../out0/gffdb_mod'\n",
    "subprocess.call(['mkdir', dirnam])"
   ]
  },
  {
   "cell_type": "code",
   "execution_count": 5,
   "id": "fdf1b8ec",
   "metadata": {},
   "outputs": [],
   "source": [
    "for i in range(len(gls)):\n",
    "    scaffnam = gls[i]\n",
    "    snam = scaffnam.replace('gff-db_','').replace('_exp.csv','')\n",
    "    if snam in scaffdict:\n",
    "        cnam = scaffdict[snam]\n",
    "        chrnam = 'gff-db_'+cnam+'_exp.csv'\n",
    "        subprocess.call(['cp', '../out0/gffdb/'+scaffnam,  '../out0/gffdb_mod/'+chrnam])   "
   ]
  }
 ],
 "metadata": {
  "kernelspec": {
   "display_name": "Python 3 (ipykernel)",
   "language": "python",
   "name": "python3"
  },
  "language_info": {
   "codemirror_mode": {
    "name": "ipython",
    "version": 3
   },
   "file_extension": ".py",
   "mimetype": "text/x-python",
   "name": "python",
   "nbconvert_exporter": "python",
   "pygments_lexer": "ipython3",
   "version": "3.8.10"
  }
 },
 "nbformat": 4,
 "nbformat_minor": 5
}
