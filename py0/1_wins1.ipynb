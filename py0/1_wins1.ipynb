{
 "cells": [
  {
   "cell_type": "code",
   "execution_count": 1,
   "id": "0b153555",
   "metadata": {},
   "outputs": [
    {
     "name": "stdout",
     "output_type": "stream",
     "text": [
      " \n",
      "wins.py\n"
     ]
    }
   ],
   "source": [
    "print(\" \")\n",
    "print(\"wins.py\")\n",
    "import sys\n",
    "sys.path.append(\"../dep\")\n",
    "from libs import *"
   ]
  },
  {
   "cell_type": "code",
   "execution_count": 2,
   "id": "d5522dcf",
   "metadata": {},
   "outputs": [
    {
     "name": "stdout",
     "output_type": "stream",
     "text": [
      "---> 00:00:32.22\n",
      " \n"
     ]
    }
   ],
   "source": [
    "# Info\n",
    "filey = fast.fasf\n",
    "\n",
    "# Get DNA sequence\n",
    "start = time.time()\n",
    "rrr = []\n",
    "for record in SeqIO.parse(filey, \"fasta\"):\n",
    "    rrr.append(record)\n",
    "end = time.time()\n",
    "hours, rem = divmod(end-start, 3600)\n",
    "minutes, seconds = divmod(rem, 60)\n",
    "print(\"---> {:0>2}:{:0>2}:{:05.2f}\".format(int(hours),int(minutes),seconds))   \n",
    "print(\" \")"
   ]
  },
  {
   "cell_type": "code",
   "execution_count": 3,
   "id": "8f902119",
   "metadata": {},
   "outputs": [],
   "source": [
    "# Contig info\n",
    "rl = []\n",
    "ri = []\n",
    "for i in range(len(rrr)):\n",
    "    rl.append(len(rrr[i].seq))\n",
    "    ri.append(rrr[i].id)\n",
    "cons = pd.DataFrame([ri,rl]).T\n",
    "cons.columns = ['id', 'clen']\n",
    "cons.to_csv('../out0/con-inf.csv', index=False)"
   ]
  },
  {
   "cell_type": "code",
   "execution_count": 4,
   "id": "45517903",
   "metadata": {},
   "outputs": [],
   "source": [
    "#\n",
    "cons = pd.read_csv('../out0/con-inf.csv')"
   ]
  },
  {
   "cell_type": "code",
   "execution_count": 5,
   "id": "dca6eb3f",
   "metadata": {},
   "outputs": [],
   "source": [
    "# Calculate contig windows\n",
    "wn = []\n",
    "win = fast.winzy\n",
    "for c in cons['id']:\n",
    "    lenny = cons[cons['id']==c]['clen'].iloc[0]\n",
    "    wins = lenny/win\n",
    "    winnp1 = np.arange(0,wins)\n",
    "    winnp2 = np.arange(1,wins,1)\n",
    "    winnp2 = np.append(winnp2, wins)\n",
    "    www = []\n",
    "    for w in range(len(winnp1)):\n",
    "        www.append([winnp1[w]*win,winnp2[w]*win])\n",
    "    wn.append(len(www))\n",
    "    wwwdf = pd.DataFrame(www)\n",
    "    wwwdf.to_csv(\"../out0/wins/windows_\"+c+\".csv\", sep=\",\", index=False, header=False)"
   ]
  },
  {
   "cell_type": "code",
   "execution_count": 6,
   "id": "8d5edb3d",
   "metadata": {},
   "outputs": [],
   "source": [
    "#\n",
    "cons['win_n'] = wn\n",
    "cons = cons.reset_index(drop=True)\n",
    "cons.to_csv('../out0/contig_info.csv', index=True)"
   ]
  },
  {
   "cell_type": "code",
   "execution_count": null,
   "id": "669feddf",
   "metadata": {},
   "outputs": [],
   "source": []
  }
 ],
 "metadata": {
  "kernelspec": {
   "display_name": "Python 3 (ipykernel)",
   "language": "python",
   "name": "python3"
  },
  "language_info": {
   "codemirror_mode": {
    "name": "ipython",
    "version": 3
   },
   "file_extension": ".py",
   "mimetype": "text/x-python",
   "name": "python",
   "nbconvert_exporter": "python",
   "pygments_lexer": "ipython3",
   "version": "3.8.10"
  }
 },
 "nbformat": 4,
 "nbformat_minor": 5
}
