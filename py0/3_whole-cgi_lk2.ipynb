{
 "cells": [
  {
   "cell_type": "code",
   "execution_count": 1,
   "id": "de28a4f0",
   "metadata": {},
   "outputs": [
    {
     "name": "stdout",
     "output_type": "stream",
     "text": [
      "whole-cgi_lk2.py\n"
     ]
    }
   ],
   "source": [
    "print(\"whole-cgi_lk2.py\")\n",
    "import sys\n",
    "sys.path.append(\"../dep\")\n",
    "from libs import *"
   ]
  },
  {
   "cell_type": "code",
   "execution_count": 2,
   "id": "d952a31b",
   "metadata": {},
   "outputs": [],
   "source": [
    "#\n",
    "filey = fast.fasf"
   ]
  },
  {
   "cell_type": "code",
   "execution_count": 3,
   "id": "0e9d079b",
   "metadata": {},
   "outputs": [],
   "source": [
    "#\n",
    "reso = 1000 # bp\n",
    "thresh = 3 # pct cpg"
   ]
  },
  {
   "cell_type": "code",
   "execution_count": null,
   "id": "2fdc0790",
   "metadata": {},
   "outputs": [],
   "source": [
    "# Get DNA sequence\n",
    "start = time.time()\n",
    "rrr = []\n",
    "for record in SeqIO.parse(filey, \"fasta\"):\n",
    "    rrr.append(record)\n",
    "end = time.time()\n",
    "hours, rem = divmod(end-start, 3600)\n",
    "minutes, seconds = divmod(rem, 60)\n",
    "print(\"---> {:0>2}:{:0>2}:{:05.2f}\".format(int(hours),int(minutes),seconds))\n",
    "print(\" \")"
   ]
  },
  {
   "cell_type": "code",
   "execution_count": null,
   "id": "0827613f",
   "metadata": {},
   "outputs": [],
   "source": [
    "# Calculate CpG percent\n",
    "start = time.time()\n",
    "xx = []\n",
    "yy = []\n",
    "for r in tqdm.tqdm(range(len(rrr))):\n",
    "    w = reso\n",
    "    q = rrr[r]\n",
    "    yi = []\n",
    "    for sl in range(0,len(q)-w+1,w):\n",
    "        sseq = q[sl:sl+w]\n",
    "        cpg = sseq.seq.count(\"CG\")\n",
    "        cpgp = (cpg / len(sseq)) *100\n",
    "        yi.append(cpgp)\n",
    "    xi = np.arange(0, len(q)-w+1, w)\n",
    "    xx.append(xi)\n",
    "    yy.append(yi)\n",
    "end = time.time()\n",
    "hours, rem = divmod(end-start, 3600)\n",
    "minutes, seconds = divmod(rem, 60)\n",
    "print(\"---> {:0>2}:{:0>2}:{:05.2f}\".format(int(hours),int(minutes),seconds))\n",
    "print(\" \")"
   ]
  },
  {
   "cell_type": "code",
   "execution_count": null,
   "id": "0fd8e60c",
   "metadata": {},
   "outputs": [],
   "source": [
    "# Contig id\n",
    "start = time.time()\n",
    "rid = []\n",
    "for i in range(len(rrr)):\n",
    "    rid.append(rrr[i].id)\n",
    "# Contig num\n",
    "num = []\n",
    "for i in range(len(rrr)):\n",
    "    num.append(i)\n",
    "# Contig length\n",
    "clen = []\n",
    "for i in range(len(rrr)):\n",
    "    clen.append(len(rrr[i].seq))\n",
    "# window number\n",
    "wno = []\n",
    "for i in range(len(rrr)):\n",
    "    wno.append(len(xx[i]))\n",
    "end = time.time()\n",
    "hours, rem = divmod(end-start, 3600)\n",
    "minutes, seconds = divmod(rem, 60)\n",
    "print(\"---> {:0>2}:{:0>2}:{:05.2f}\".format(int(hours),int(minutes),seconds))\n",
    "print(\" \")\n"
   ]
  },
  {
   "cell_type": "code",
   "execution_count": null,
   "id": "8a01519b",
   "metadata": {},
   "outputs": [],
   "source": [
    "# Average and max CpG pct\n",
    "start = time.time()\n",
    "cg_mean = []\n",
    "cg_max = []\n",
    "for i in range(len(rrr)):\n",
    "    if len(yy[i]) > 0:\n",
    "        cg_mean.append(np.mean(yy[i]))\n",
    "        cg_max.append(np.max(yy[i]))\n",
    "    else:\n",
    "        cg_mean.append(np.nan)\n",
    "        cg_max.append(np.nan)\n",
    "end = time.time()\n",
    "hours, rem = divmod(end-start, 3600)\n",
    "minutes, seconds = divmod(rem, 60)\n",
    "print(\"---> {:0>2}:{:0>2}:{:05.2f}\".format(int(hours),int(minutes),seconds))\n",
    "print(\" \")"
   ]
  },
  {
   "cell_type": "code",
   "execution_count": null,
   "id": "e60bfeb0",
   "metadata": {},
   "outputs": [],
   "source": [
    "# Number of \"CpG islands\"\n",
    "start = time.time()\n",
    "cgi_num = []\n",
    "t_xii = []\n",
    "t_yii = []\n",
    "ttseq = []\n",
    "ccseq = []\n",
    "ffseq = []\n",
    "for i in range(len(rrr)):\n",
    "    xii = []\n",
    "    yii = []\n",
    "    tseq = []\n",
    "    for ii in range(len(xx[i])):\n",
    "        if yy[i][ii] > thresh:\n",
    "            xii.append(xx[i][ii])\n",
    "            yii.append(yy[i][ii])\n",
    "            tseq.append('t')\n",
    "        else:\n",
    "            tseq.append('-')\n",
    "    ts = ''.join(np.array(tseq))\n",
    "    ttseq.append(ts)\n",
    "    reg = []\n",
    "    for s in range(len(xii)):\n",
    "        if s < len(xii)-1:\n",
    "            if abs(xii[s]-xii[s+1]) == reso:\n",
    "                reg.append('c')\n",
    "            elif abs(xii[s]-xii[s-1]) == reso:\n",
    "                reg.append('c')\n",
    "            else:\n",
    "                reg.append('-')\n",
    "        else:\n",
    "            reg.append('-')\n",
    "    cseq = ''.join(np.array(reg))\n",
    "    ccseq.append(cseq)\n",
    "    fseq = [f[0] for f in groupby(cseq)]\n",
    "    fseq = ''.join(np.array(fseq))\n",
    "    ffseq.append(fseq)\n",
    "    t_xii.append(xii)\n",
    "    t_yii.append(yii)\n",
    "    cgi_num.append(fseq.count(\"c\"))\n",
    "end = time.time()\n",
    "hours, rem = divmod(end-start, 3600)\n",
    "minutes, seconds = divmod(rem, 60)\n",
    "print(\"---> {:0>2}:{:0>2}:{:05.2f}\".format(int(hours),int(minutes),seconds))\n",
    "print(\" \")"
   ]
  },
  {
   "cell_type": "code",
   "execution_count": null,
   "id": "dfe109c1",
   "metadata": {},
   "outputs": [],
   "source": [
    "# indicate whether window is above cpg threshold and in cgi\n",
    "cgi_ind = []\n",
    "for s in tqdm.tqdm(range(len(t_xii))):\n",
    "    eek = []\n",
    "    for u in range(len(t_xii[s])):\n",
    "        if ccseq[s][u] == 'c':\n",
    "            eek.append(t_xii[s][u])\n",
    "    hey = []\n",
    "    for j in xx[s]:\n",
    "        if j in eek:\n",
    "            hey.append('c')\n",
    "        elif j in t_xii[s]:\n",
    "            hey.append('t')\n",
    "        else:\n",
    "            hey.append('-')\n",
    "    hh = ''.join(np.array(hey))\n",
    "    cgi_ind.append(hh)"
   ]
  },
  {
   "cell_type": "code",
   "execution_count": null,
   "id": "48d18e54",
   "metadata": {},
   "outputs": [],
   "source": [
    "# indicate whether window is above cpg threshold and in cgi\n",
    "cgi_ind = []\n",
    "for s in tqdm.tqdm(range(len(t_xii))):\n",
    "    eek = []\n",
    "    for u in range(len(t_xii[s])):\n",
    "        if ccseq[s][u] == 'c':\n",
    "            eek.append(t_xii[s][u])\n",
    "    hey = []\n",
    "    for j in xx[s]:\n",
    "        if j in eek:\n",
    "            hey.append('c')\n",
    "        elif j in t_xii[s]:\n",
    "            hey.append('t')\n",
    "        else:\n",
    "            hey.append('-')\n",
    "    hh = ''.join(np.array(hey))\n",
    "    cgi_ind.append(hh)"
   ]
  },
  {
   "cell_type": "code",
   "execution_count": null,
   "id": "9955d673",
   "metadata": {},
   "outputs": [],
   "source": [
    "# Prepare dataset\n",
    "start = time.time()\n",
    "df = pd.DataFrame([num, rid, clen, wno, cg_mean, cg_max, cgi_num, xx, yy, cgi_ind, t_xii, t_yii]).T\n",
    "df.columns = ['num', 'rid', 'clen', 'wno', 'cg_mean', 'cg_max', 'cgi_num', 'xx', 'yy', 'cgi_ind', 't_xii', 't_yii']\n",
    "#df = df.dropna(subset=['cg_mean', 'cg_max'])\n",
    "df.to_csv('../out0/whole-cpg_out.csv', index=False)\n",
    "end = time.time()\n",
    "hours, rem = divmod(end-start, 3600)\n",
    "minutes, seconds = divmod(rem, 60)\n",
    "print(\"---> {:0>2}:{:0>2}:{:05.2f}\".format(int(hours),int(minutes),seconds))\n",
    "print(\" \")"
   ]
  },
  {
   "cell_type": "code",
   "execution_count": null,
   "id": "34c03992",
   "metadata": {},
   "outputs": [],
   "source": [
    "for n in tqdm.tqdm(range(len(df['num']))):\n",
    "    sdf = df[df['num']==n]\n",
    "    i = sdf['rid'][n]\n",
    "    idf = pd.DataFrame([sdf['xx'][n], sdf['yy'][n], sdf['cgi_ind'][n]]).T\n",
    "    idf.columns = ['xst', 'cg_pct', 'cgi']\n",
    "    idf['xen'] = idf['xst'] + (reso-1)\n",
    "    idf['rid'] = sdf['rid'][n]\n",
    "    idf['cg_mean'] = sdf['cg_mean'][n]\n",
    "    idf['cg_max'] = sdf['cg_max'][n]\n",
    "    idf['cgi_num'] = sdf['cgi_num'][n]\n",
    "    idf = idf[['rid', 'cg_mean', 'cg_max', 'cgi_num', 'cgi', 'xst', 'xen', 'cg_pct']]\n",
    "    idf.to_csv('../out0/cgi/whole-cgi_'+i+'_exp.csv', index=False)"
   ]
  },
  {
   "cell_type": "code",
   "execution_count": null,
   "id": "463258ed",
   "metadata": {},
   "outputs": [],
   "source": []
  }
 ],
 "metadata": {
  "kernelspec": {
   "display_name": "Python 3 (ipykernel)",
   "language": "python",
   "name": "python3"
  },
  "language_info": {
   "codemirror_mode": {
    "name": "ipython",
    "version": 3
   },
   "file_extension": ".py",
   "mimetype": "text/x-python",
   "name": "python",
   "nbconvert_exporter": "python",
   "pygments_lexer": "ipython3",
   "version": "3.8.10"
  }
 },
 "nbformat": 4,
 "nbformat_minor": 5
}
