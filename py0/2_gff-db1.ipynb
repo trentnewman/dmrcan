{
 "cells": [
  {
   "cell_type": "code",
   "execution_count": 1,
   "id": "2d57fce7",
   "metadata": {},
   "outputs": [
    {
     "name": "stdout",
     "output_type": "stream",
     "text": [
      "gff-db1.py\n"
     ]
    }
   ],
   "source": [
    "print(\"gff-db1.py\")\n",
    "import sys\n",
    "sys.path.append(\"../dep\")\n",
    "from libs import *"
   ]
  },
  {
   "cell_type": "code",
   "execution_count": 2,
   "id": "2584bfbe",
   "metadata": {},
   "outputs": [
    {
     "data": {
      "text/plain": [
       "'../../../../Genome/Echidna/mTacAcu1_pri_genomic.gff'"
      ]
     },
     "execution_count": 2,
     "metadata": {},
     "output_type": "execute_result"
    }
   ],
   "source": [
    "#\n",
    "filey = annt.annf\n",
    "filey"
   ]
  },
  {
   "cell_type": "code",
   "execution_count": 3,
   "id": "6fd6ce9b",
   "metadata": {},
   "outputs": [
    {
     "name": "stdout",
     "output_type": "stream",
     "text": [
      "-- Creating anotation database\n",
      "--- This can take a while...\n",
      "    in: ../../../../Genome/Echidna/mTacAcu1_pri_genomic.gff\n",
      "---> 00:02:56.74\n"
     ]
    }
   ],
   "source": [
    "#\n",
    "start = time.time()\n",
    "print(\"-- Creating anotation database\")\n",
    "print(\"--- This can take a while...\")\n",
    "db = gffutils.create_db(filey, \":memory:\",\n",
    "                        merge_strategy='create_unique', keep_order=True)\n",
    "print(\"    in: \"+filey)\n",
    "end = time.time()\n",
    "hours, rem = divmod(end-start, 3600)\n",
    "minutes, seconds = divmod(rem, 60)\n",
    "print(\"---> {:0>2}:{:0>2}:{:05.2f}\".format(int(hours),int(minutes),seconds))"
   ]
  },
  {
   "cell_type": "code",
   "execution_count": 4,
   "id": "07b57cb1",
   "metadata": {},
   "outputs": [
    {
     "name": "stdout",
     "output_type": "stream",
     "text": [
      "-- Collecting record features\n",
      "---> 00:00:46.98\n"
     ]
    }
   ],
   "source": [
    "#\n",
    "start = time.time()\n",
    "print(\"-- Collecting record features\")\n",
    "rec = []\n",
    "for i in db.all_features():\n",
    "    rec.append(i)\n",
    "end = time.time()\n",
    "hours, rem = divmod(end-start, 3600)\n",
    "minutes, seconds = divmod(rem, 60)\n",
    "print(\"---> {:0>2}:{:0>2}:{:05.2f}\".format(int(hours),int(minutes),seconds))"
   ]
  },
  {
   "cell_type": "code",
   "execution_count": 5,
   "id": "207befbb",
   "metadata": {},
   "outputs": [
    {
     "name": "stdout",
     "output_type": "stream",
     "text": [
      "-- Assembling feature database\n",
      "---> 00:00:39.38\n"
     ]
    }
   ],
   "source": [
    "#\n",
    "start = time.time()\n",
    "print(\"-- Assembling feature database\")\n",
    "rdf = []\n",
    "for r in range(len(rec)):\n",
    "    g_chrom = rec[r].chrom\n",
    "    g_id = rec[r].id\n",
    "    g_featuretype = rec[r].featuretype\n",
    "    g_strand = rec[r].strand\n",
    "    g_start = rec[r].start\n",
    "    g_end = rec[r].end\n",
    "    g_att = rec[r].astuple()[9]\n",
    "    rrr = [g_chrom, g_id, g_featuretype, g_strand, g_start, g_end, g_att]\n",
    "    rdf.append(rrr)\n",
    "rdf = pd.DataFrame(rdf, columns=['chrom', 'id', 'featuretype', 'strand', 'start', 'end', 'att'])\n",
    "end = time.time()\n",
    "hours, rem = divmod(end-start, 3600)\n",
    "minutes, seconds = divmod(rem, 60)\n",
    "print(\"---> {:0>2}:{:0>2}:{:05.2f}\".format(int(hours),int(minutes),seconds))"
   ]
  },
  {
   "cell_type": "code",
   "execution_count": 6,
   "id": "2dbd2972",
   "metadata": {},
   "outputs": [
    {
     "name": "stderr",
     "output_type": "stream",
     "text": [
      "100%|█████████████████████████████████████████| 310/310 [01:56<00:00,  2.67it/s]\n"
     ]
    }
   ],
   "source": [
    "#\n",
    "for i in tqdm.tqdm(range(len(rdf['chrom'].unique()))):\n",
    "    ccc = rdf['chrom'].unique()[i]\n",
    "    srdf = rdf\n",
    "    srdf = srdf[srdf['chrom']==ccc]\n",
    "    srdf.to_csv(\"../out0/gffdb/gff-db_\"+ccc+\"_exp.csv\", sep=\",\", index=False)"
   ]
  },
  {
   "cell_type": "code",
   "execution_count": null,
   "id": "0696b656",
   "metadata": {},
   "outputs": [],
   "source": []
  },
  {
   "cell_type": "code",
   "execution_count": null,
   "id": "66f03c95",
   "metadata": {},
   "outputs": [],
   "source": []
  }
 ],
 "metadata": {
  "kernelspec": {
   "display_name": "Python 3 (ipykernel)",
   "language": "python",
   "name": "python3"
  },
  "language_info": {
   "codemirror_mode": {
    "name": "ipython",
    "version": 3
   },
   "file_extension": ".py",
   "mimetype": "text/x-python",
   "name": "python",
   "nbconvert_exporter": "python",
   "pygments_lexer": "ipython3",
   "version": "3.8.10"
  }
 },
 "nbformat": 4,
 "nbformat_minor": 5
}
